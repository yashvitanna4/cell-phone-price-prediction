{
 "cells": [
  {
   "cell_type": "code",
   "execution_count": null,
   "id": "7ad038ae",
   "metadata": {},
   "outputs": [],
   "source": [
    "!streamlit run model.py"
   ]
  },
  {
   "cell_type": "code",
   "execution_count": null,
   "id": "5b4ccab2",
   "metadata": {},
   "outputs": [],
   "source": [
    "!streamlit run y.py\n"
   ]
  },
  {
   "cell_type": "code",
   "execution_count": null,
   "id": "5f3cc486",
   "metadata": {},
   "outputs": [],
   "source": []
  },
  {
   "cell_type": "code",
   "execution_count": null,
   "id": "e07a3be9",
   "metadata": {},
   "outputs": [],
   "source": []
  },
  {
   "cell_type": "code",
   "execution_count": null,
   "id": "7f10a875",
   "metadata": {},
   "outputs": [],
   "source": []
  },
  {
   "cell_type": "code",
   "execution_count": null,
   "id": "228b2e37",
   "metadata": {},
   "outputs": [],
   "source": []
  }
 ],
 "metadata": {
  "kernelspec": {
   "display_name": "Python 3 (ipykernel)",
   "language": "python",
   "name": "python3"
  },
  "language_info": {
   "codemirror_mode": {
    "name": "ipython",
    "version": 3
   },
   "file_extension": ".py",
   "mimetype": "text/x-python",
   "name": "python",
   "nbconvert_exporter": "python",
   "pygments_lexer": "ipython3",
   "version": "3.11.4"
  }
 },
 "nbformat": 4,
 "nbformat_minor": 5
}
